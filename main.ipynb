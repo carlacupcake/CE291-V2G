{
 "cells": [
  {
   "cell_type": "code",
   "execution_count": 1,
   "metadata": {},
   "outputs": [],
   "source": [
    "import csv\n",
    "import json\n",
    "import numpy as np\n",
    "import matplotlib.pyplot as plt\n",
    "import os\n",
    "import pandas as pd\n",
    "\n",
    "from env_test import GridEnvironment"
   ]
  },
  {
   "cell_type": "code",
   "execution_count": 2,
   "metadata": {},
   "outputs": [],
   "source": [
    "# Test GridEnvironment class\n",
    "N = 10 # 10 EVs\n",
    "\n",
    "# Get demand data\n",
    "# TODO get apparent power from real and reactive, use just real for now\n",
    "with open('Building Load Data/real_power_data.json', 'r') as json_file:\n",
    "    real_dict = json.load(json_file)\n",
    "    for key in real_dict.keys(): # get data from first key only (CAPTL_WF)\n",
    "        demand_data = np.array(real_dict[key])\n",
    "        break\n",
    "\n",
    "# Get solar data\n",
    "with open('PV Generation Data/pv_data.json', 'r') as json_file:\n",
    "    pv_dict = json.load(json_file)\n",
    "    for key in pv_dict.keys(): # get data from first key only (CAPTL_WF)\n",
    "        solar_data = np.array(pv_dict[key])\n",
    "        break\n",
    "\n",
    "# Get wind data\n",
    "with open('Wind Data/wind_data.json', 'r') as json_file:\n",
    "    wind_dict = json.load(json_file)\n",
    "    for key in wind_dict.keys(): # get data from first key only (CAPTL_WF)\n",
    "        wind_data = np.array(wind_dict[key])\n",
    "        break\n",
    "\n",
    "grid  = GridEnvironment(N, demand_data, solar_data, wind_data)"
   ]
  },
  {
   "cell_type": "code",
   "execution_count": null,
   "metadata": {},
   "outputs": [],
   "source": []
  }
 ],
 "metadata": {
  "kernelspec": {
   "display_name": "Python 3",
   "language": "python",
   "name": "python3"
  },
  "language_info": {
   "codemirror_mode": {
    "name": "ipython",
    "version": 3
   },
   "file_extension": ".py",
   "mimetype": "text/x-python",
   "name": "python",
   "nbconvert_exporter": "python",
   "pygments_lexer": "ipython3",
   "version": "3.9.12"
  }
 },
 "nbformat": 4,
 "nbformat_minor": 1
}
